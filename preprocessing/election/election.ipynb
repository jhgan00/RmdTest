{
 "cells": [
  {
   "cell_type": "markdown",
   "metadata": {},
   "source": [
    "# 2016 총선 지역구 개표결과"
   ]
  },
  {
   "cell_type": "markdown",
   "metadata": {},
   "source": [
    ": [Computational Documents](https://jhgan00.github.io/computational_docs/widgets_cross.html)에 사용된 데이터의 전처리 과정"
   ]
  },
  {
   "cell_type": "markdown",
   "metadata": {},
   "source": [
    "## 1. 선거 데이터 수합"
   ]
  },
  {
   "cell_type": "markdown",
   "metadata": {},
   "source": [
    "공공데이터포털에서 [2016년 국회의원 총선거 개표 데이터](https://www.data.go.kr/dataset/15025527/fileData.do)를 다운받은 후 서울 지역구 결과만 정리한다. 선거구별 데이터를 읽어와 하나로 합쳐주고, 필요한 전처리를 진행해준다. 총 49개 선거구 데이터가 모두 병합되었다."
   ]
  },
  {
   "cell_type": "code",
   "execution_count": 1,
   "metadata": {},
   "outputs": [],
   "source": [
    "import pandas as pd\n",
    "import os\n",
    "import re"
   ]
  },
  {
   "cell_type": "code",
   "execution_count": 2,
   "metadata": {},
   "outputs": [],
   "source": [
    "datalist = []\n",
    "for file in os.listdir(\"data/seoul\"):\n",
    "    data = pd.read_excel(f\"data/seoul/{file}\")\n",
    "    선거구 = file.split(\"_\")[-1].split(\".xlsx\")[0]\n",
    "    자치구 = data.iloc[1,0].split(\"][\")[-1][:-1]\n",
    "    tmp = data[data['Unnamed: 1'] == \"소계\"].iloc[:,:7]\n",
    "    tmp.columns = ['읍면동명','소계','선거인수','투표수','새누리당','더불어민주당','국민의당']\n",
    "    tmp = tmp.assign(자치구= 자치구, 선거구=선거구)\n",
    "    datalist.append(tmp)"
   ]
  },
  {
   "cell_type": "code",
   "execution_count": 3,
   "metadata": {},
   "outputs": [],
   "source": [
    "data = pd.concat(datalist).drop(\"소계\",axis=1)"
   ]
  },
  {
   "cell_type": "code",
   "execution_count": 4,
   "metadata": {},
   "outputs": [
    {
     "data": {
      "text/plain": [
       "49"
      ]
     },
     "execution_count": 4,
     "metadata": {},
     "output_type": "execute_result"
    }
   ],
   "source": [
    "# 총 49개 선거구 데이터\n",
    "data.선거구.unique().size"
   ]
  },
  {
   "cell_type": "code",
   "execution_count": 5,
   "metadata": {},
   "outputs": [],
   "source": [
    "data = data.assign(읍면동명 = data.읍면동명.apply(lambda x: x.replace(\"제\",\"\",1) if re.search(\"\\d\",x) else x))\n",
    "data = data.assign(읍면동명 = data.읍면동명.apply(lambda x: x.replace(\"·\",\".\")))"
   ]
  },
  {
   "cell_type": "markdown",
   "metadata": {},
   "source": [
    "## 2. 행정동코드 매칭"
   ]
  },
  {
   "cell_type": "markdown",
   "metadata": {},
   "source": [
    "행정동 코드 파일을 읽어와 개표 데이터에 코드를 매칭해준다."
   ]
  },
  {
   "cell_type": "code",
   "execution_count": 6,
   "metadata": {},
   "outputs": [],
   "source": [
    "codes = pd.read_csv(\"data/code.csv\")\n",
    "codes = codes[codes.adm_nm.apply(lambda x: \"서울특별시\" in x)]\n",
    "codes = codes.assign(자치구 = codes.adm_nm.apply(lambda x: x.split(\" \")[-2]),\n",
    "                    읍면동명 = codes.adm_nm.apply(lambda x: x.split(\" \")[-1]))\n",
    "codes = codes[['자치구','읍면동명','adm_cd']].rename(columns={\"adm_cd\":\"읍면동코드\"})\n",
    "codes = codes.assign(읍면동명 = codes.읍면동명.apply(lambda x: x.replace(\"·\",\".\")))"
   ]
  },
  {
   "cell_type": "code",
   "execution_count": 7,
   "metadata": {},
   "outputs": [],
   "source": [
    "data = pd.merge(data,codes, on='읍면동명')"
   ]
  },
  {
   "cell_type": "code",
   "execution_count": 8,
   "metadata": {},
   "outputs": [],
   "source": [
    "data = data[(data.읍면동명!=\"신사동\")|(data.자치구_x==data.자치구_y)]"
   ]
  },
  {
   "cell_type": "code",
   "execution_count": 9,
   "metadata": {},
   "outputs": [],
   "source": [
    "data = data.drop([\"자치구_x\",\"자치구_y\"],axis=1)"
   ]
  },
  {
   "cell_type": "markdown",
   "metadata": {},
   "source": [
    "## 3. 기타 데이터와 병합"
   ]
  },
  {
   "cell_type": "markdown",
   "metadata": {},
   "source": [
    "동별 기타 정보가 들어있는 데이터와 병합해준다."
   ]
  },
  {
   "cell_type": "code",
   "execution_count": 10,
   "metadata": {},
   "outputs": [],
   "source": [
    "pop = pd.read_csv(\"data/pop.csv\")\n",
    "pop = pop[pop.year==2016].drop([\"Unnamed: 0\", \"year\"],axis=1)\n",
    "pop = pop.assign(읍면동명 = pop.읍면동명.apply(lambda x: x.replace(\"·\",\".\")))"
   ]
  },
  {
   "cell_type": "code",
   "execution_count": 11,
   "metadata": {},
   "outputs": [],
   "source": [
    "pop = pop.drop([\"선거인수\",\"새누리당\",\"더불어민주당\",\"국민의당\"],axis=1)"
   ]
  },
  {
   "cell_type": "code",
   "execution_count": 12,
   "metadata": {},
   "outputs": [],
   "source": [
    "신사 = pd.merge(data[data.읍면동명=='신사동'], pop[pop.읍면동명=='신사동'])\n",
    "신사 = 신사[신사.선거구.apply(lambda x: x[:-1]) == 신사.자치구]"
   ]
  },
  {
   "cell_type": "code",
   "execution_count": 13,
   "metadata": {},
   "outputs": [],
   "source": [
    "rest = pd.merge(data[data.읍면동명!='신사동'], pop[pop.읍면동명!='신사동'].drop(\"자치구\",axis=1), on='읍면동명')"
   ]
  },
  {
   "cell_type": "code",
   "execution_count": 14,
   "metadata": {},
   "outputs": [],
   "source": [
    "data = pd.concat([신사,rest],sort=False)"
   ]
  },
  {
   "cell_type": "markdown",
   "metadata": {},
   "source": [
    "## 4. 선거구별 정리"
   ]
  },
  {
   "cell_type": "code",
   "execution_count": 15,
   "metadata": {},
   "outputs": [],
   "source": [
    "elected = data.groupby(\"선거구\")[['새누리당','더불어민주당','국민의당']].sum().apply(lambda x: x.idxmax(),1).reset_index()\n",
    "elected.columns = ['선거구','당선']"
   ]
  },
  {
   "cell_type": "code",
   "execution_count": 16,
   "metadata": {},
   "outputs": [],
   "source": [
    "data = pd.merge(data,elected).drop('자치구',axis=1)"
   ]
  },
  {
   "cell_type": "markdown",
   "metadata": {},
   "source": [
    "## 5. 지리 데이터와 병합"
   ]
  },
  {
   "cell_type": "code",
   "execution_count": 17,
   "metadata": {},
   "outputs": [],
   "source": [
    "import geopandas as gpd\n",
    "import json\n",
    "geodf = gpd.read_file(\"data/행정동2016.geojson\")"
   ]
  },
  {
   "cell_type": "code",
   "execution_count": 18,
   "metadata": {},
   "outputs": [],
   "source": [
    "geodf = geodf.astype({\"adm_cd\":\"int\"}).rename(columns={\"adm_cd\":\"읍면동코드\"})\n",
    "geodf=geodf[['읍면동코드','geometry']]"
   ]
  },
  {
   "cell_type": "code",
   "execution_count": 19,
   "metadata": {},
   "outputs": [],
   "source": [
    "data = pd.merge(geodf,data).rename(columns={\"소득(동별)\":\"소득\"})"
   ]
  },
  {
   "cell_type": "code",
   "execution_count": 22,
   "metadata": {},
   "outputs": [
    {
     "data": {
      "text/plain": [
       "geopandas.geodataframe.GeoDataFrame"
      ]
     },
     "execution_count": 22,
     "metadata": {},
     "output_type": "execute_result"
    }
   ],
   "source": [
    "type(data)"
   ]
  },
  {
   "cell_type": "code",
   "execution_count": 192,
   "metadata": {},
   "outputs": [],
   "source": [
    "with open(\"data/election.json\", \"w\") as jsonfile:\n",
    "    json.dump(json.loads(data.to_json()), jsonfile)"
   ]
  },
  {
   "cell_type": "code",
   "execution_count": 194,
   "metadata": {},
   "outputs": [
    {
     "data": {
      "text/html": [
       "<div>\n",
       "<style scoped>\n",
       "    .dataframe tbody tr th:only-of-type {\n",
       "        vertical-align: middle;\n",
       "    }\n",
       "\n",
       "    .dataframe tbody tr th {\n",
       "        vertical-align: top;\n",
       "    }\n",
       "\n",
       "    .dataframe thead th {\n",
       "        text-align: right;\n",
       "    }\n",
       "</style>\n",
       "<table border=\"1\" class=\"dataframe\">\n",
       "  <thead>\n",
       "    <tr style=\"text-align: right;\">\n",
       "      <th></th>\n",
       "      <th>읍면동코드</th>\n",
       "      <th>geometry</th>\n",
       "      <th>읍면동명</th>\n",
       "      <th>선거인수</th>\n",
       "      <th>투표수</th>\n",
       "      <th>새누리당</th>\n",
       "      <th>더불어민주당</th>\n",
       "      <th>국민의당</th>\n",
       "      <th>선거구</th>\n",
       "      <th>독거노인수</th>\n",
       "      <th>...</th>\n",
       "      <th>기초수급자인원수</th>\n",
       "      <th>보육시설</th>\n",
       "      <th>금융기관</th>\n",
       "      <th>사업체 평균연령</th>\n",
       "      <th>장애등급별 장애인현황</th>\n",
       "      <th>인구</th>\n",
       "      <th>면적</th>\n",
       "      <th>인구밀도</th>\n",
       "      <th>소득</th>\n",
       "      <th>당선</th>\n",
       "    </tr>\n",
       "  </thead>\n",
       "  <tbody>\n",
       "    <tr>\n",
       "      <td>0</td>\n",
       "      <td>1101053</td>\n",
       "      <td>POLYGON ((126.97689 37.57565, 126.97703 37.569...</td>\n",
       "      <td>사직동</td>\n",
       "      <td>8199</td>\n",
       "      <td>5280</td>\n",
       "      <td>2486</td>\n",
       "      <td>2383</td>\n",
       "      <td>263</td>\n",
       "      <td>종로구</td>\n",
       "      <td>383.0</td>\n",
       "      <td>...</td>\n",
       "      <td>102</td>\n",
       "      <td>818.0</td>\n",
       "      <td>21.0</td>\n",
       "      <td>10.417</td>\n",
       "      <td>315.0</td>\n",
       "      <td>10013</td>\n",
       "      <td>1.23</td>\n",
       "      <td>8141</td>\n",
       "      <td>1.669880e+06</td>\n",
       "      <td>더불어민주당</td>\n",
       "    </tr>\n",
       "    <tr>\n",
       "      <td>1</td>\n",
       "      <td>1101054</td>\n",
       "      <td>POLYGON ((126.98269 37.59507, 126.98337 37.594...</td>\n",
       "      <td>삼청동</td>\n",
       "      <td>2442</td>\n",
       "      <td>1518</td>\n",
       "      <td>680</td>\n",
       "      <td>707</td>\n",
       "      <td>85</td>\n",
       "      <td>종로구</td>\n",
       "      <td>156.0</td>\n",
       "      <td>...</td>\n",
       "      <td>50</td>\n",
       "      <td>32.0</td>\n",
       "      <td>5.0</td>\n",
       "      <td>8.000</td>\n",
       "      <td>126.0</td>\n",
       "      <td>3118</td>\n",
       "      <td>1.49</td>\n",
       "      <td>2093</td>\n",
       "      <td>5.186958e+05</td>\n",
       "      <td>더불어민주당</td>\n",
       "    </tr>\n",
       "    <tr>\n",
       "      <td>2</td>\n",
       "      <td>1101055</td>\n",
       "      <td>POLYGON ((126.97585 37.59656, 126.97359 37.593...</td>\n",
       "      <td>부암동</td>\n",
       "      <td>8449</td>\n",
       "      <td>5396</td>\n",
       "      <td>2175</td>\n",
       "      <td>2806</td>\n",
       "      <td>252</td>\n",
       "      <td>종로구</td>\n",
       "      <td>319.0</td>\n",
       "      <td>...</td>\n",
       "      <td>140</td>\n",
       "      <td>145.0</td>\n",
       "      <td>2.0</td>\n",
       "      <td>10.250</td>\n",
       "      <td>334.0</td>\n",
       "      <td>11044</td>\n",
       "      <td>2.27</td>\n",
       "      <td>4865</td>\n",
       "      <td>1.811906e+06</td>\n",
       "      <td>더불어민주당</td>\n",
       "    </tr>\n",
       "    <tr>\n",
       "      <td>3</td>\n",
       "      <td>1101056</td>\n",
       "      <td>POLYGON ((126.98014 37.62835, 126.98013 37.628...</td>\n",
       "      <td>평창동</td>\n",
       "      <td>15372</td>\n",
       "      <td>9780</td>\n",
       "      <td>4619</td>\n",
       "      <td>4571</td>\n",
       "      <td>387</td>\n",
       "      <td>종로구</td>\n",
       "      <td>615.0</td>\n",
       "      <td>...</td>\n",
       "      <td>124</td>\n",
       "      <td>195.0</td>\n",
       "      <td>5.0</td>\n",
       "      <td>10.250</td>\n",
       "      <td>573.0</td>\n",
       "      <td>19457</td>\n",
       "      <td>8.87</td>\n",
       "      <td>2194</td>\n",
       "      <td>3.241634e+06</td>\n",
       "      <td>더불어민주당</td>\n",
       "    </tr>\n",
       "    <tr>\n",
       "      <td>4</td>\n",
       "      <td>1101057</td>\n",
       "      <td>POLYGON ((126.96067 37.58080, 126.96281 37.579...</td>\n",
       "      <td>무악동</td>\n",
       "      <td>6431</td>\n",
       "      <td>4418</td>\n",
       "      <td>1840</td>\n",
       "      <td>2241</td>\n",
       "      <td>248</td>\n",
       "      <td>종로구</td>\n",
       "      <td>205.0</td>\n",
       "      <td>...</td>\n",
       "      <td>129</td>\n",
       "      <td>250.0</td>\n",
       "      <td>1.0</td>\n",
       "      <td>11.999</td>\n",
       "      <td>300.0</td>\n",
       "      <td>8516</td>\n",
       "      <td>0.36</td>\n",
       "      <td>23656</td>\n",
       "      <td>1.505475e+06</td>\n",
       "      <td>더불어민주당</td>\n",
       "    </tr>\n",
       "    <tr>\n",
       "      <td>...</td>\n",
       "      <td>...</td>\n",
       "      <td>...</td>\n",
       "      <td>...</td>\n",
       "      <td>...</td>\n",
       "      <td>...</td>\n",
       "      <td>...</td>\n",
       "      <td>...</td>\n",
       "      <td>...</td>\n",
       "      <td>...</td>\n",
       "      <td>...</td>\n",
       "      <td>...</td>\n",
       "      <td>...</td>\n",
       "      <td>...</td>\n",
       "      <td>...</td>\n",
       "      <td>...</td>\n",
       "      <td>...</td>\n",
       "      <td>...</td>\n",
       "      <td>...</td>\n",
       "      <td>...</td>\n",
       "      <td>...</td>\n",
       "      <td>...</td>\n",
       "    </tr>\n",
       "    <tr>\n",
       "      <td>419</td>\n",
       "      <td>1125074</td>\n",
       "      <td>POLYGON ((127.14857 37.54578, 127.14871 37.545...</td>\n",
       "      <td>길동</td>\n",
       "      <td>41751</td>\n",
       "      <td>23096</td>\n",
       "      <td>9346</td>\n",
       "      <td>9524</td>\n",
       "      <td>3447</td>\n",
       "      <td>강동구갑</td>\n",
       "      <td>1162.0</td>\n",
       "      <td>...</td>\n",
       "      <td>895</td>\n",
       "      <td>1282.0</td>\n",
       "      <td>9.0</td>\n",
       "      <td>8.250</td>\n",
       "      <td>1981.0</td>\n",
       "      <td>51434</td>\n",
       "      <td>2.17</td>\n",
       "      <td>23702</td>\n",
       "      <td>8.057254e+05</td>\n",
       "      <td>더불어민주당</td>\n",
       "    </tr>\n",
       "    <tr>\n",
       "      <td>420</td>\n",
       "      <td>1124054</td>\n",
       "      <td>POLYGON ((127.14897 37.49628, 127.15032 37.495...</td>\n",
       "      <td>거여2동</td>\n",
       "      <td>17544</td>\n",
       "      <td>10595</td>\n",
       "      <td>4158</td>\n",
       "      <td>4721</td>\n",
       "      <td>1561</td>\n",
       "      <td>송파구병</td>\n",
       "      <td>637.0</td>\n",
       "      <td>...</td>\n",
       "      <td>541</td>\n",
       "      <td>650.0</td>\n",
       "      <td>3.0</td>\n",
       "      <td>9.667</td>\n",
       "      <td>1000.0</td>\n",
       "      <td>19609</td>\n",
       "      <td>0.53</td>\n",
       "      <td>36998</td>\n",
       "      <td>5.480795e+05</td>\n",
       "      <td>더불어민주당</td>\n",
       "    </tr>\n",
       "    <tr>\n",
       "      <td>421</td>\n",
       "      <td>1124055</td>\n",
       "      <td>POLYGON ((127.16010 37.49716, 127.16005 37.494...</td>\n",
       "      <td>마천1동</td>\n",
       "      <td>18270</td>\n",
       "      <td>10130</td>\n",
       "      <td>4042</td>\n",
       "      <td>4367</td>\n",
       "      <td>1617</td>\n",
       "      <td>송파구병</td>\n",
       "      <td>816.0</td>\n",
       "      <td>...</td>\n",
       "      <td>1021</td>\n",
       "      <td>523.0</td>\n",
       "      <td>1.0</td>\n",
       "      <td>9.250</td>\n",
       "      <td>1258.0</td>\n",
       "      <td>22912</td>\n",
       "      <td>0.58</td>\n",
       "      <td>39503</td>\n",
       "      <td>6.698035e+05</td>\n",
       "      <td>더불어민주당</td>\n",
       "    </tr>\n",
       "    <tr>\n",
       "      <td>422</td>\n",
       "      <td>1124081</td>\n",
       "      <td>POLYGON ((127.13667 37.48915, 127.13535 37.481...</td>\n",
       "      <td>장지동</td>\n",
       "      <td>27317</td>\n",
       "      <td>16604</td>\n",
       "      <td>6081</td>\n",
       "      <td>7704</td>\n",
       "      <td>2625</td>\n",
       "      <td>송파구병</td>\n",
       "      <td>663.0</td>\n",
       "      <td>...</td>\n",
       "      <td>916</td>\n",
       "      <td>1053.0</td>\n",
       "      <td>3.0</td>\n",
       "      <td>8.250</td>\n",
       "      <td>1477.0</td>\n",
       "      <td>35834</td>\n",
       "      <td>1.37</td>\n",
       "      <td>26156</td>\n",
       "      <td>1.096770e+06</td>\n",
       "      <td>더불어민주당</td>\n",
       "    </tr>\n",
       "    <tr>\n",
       "      <td>423</td>\n",
       "      <td>1124082</td>\n",
       "      <td>POLYGON ((127.14149 37.49168, 127.14183 37.491...</td>\n",
       "      <td>위례동</td>\n",
       "      <td>8596</td>\n",
       "      <td>5640</td>\n",
       "      <td>1778</td>\n",
       "      <td>3155</td>\n",
       "      <td>662</td>\n",
       "      <td>송파구병</td>\n",
       "      <td>112.0</td>\n",
       "      <td>...</td>\n",
       "      <td>33</td>\n",
       "      <td>621.0</td>\n",
       "      <td>3.0</td>\n",
       "      <td>3.334</td>\n",
       "      <td>454.0</td>\n",
       "      <td>17338</td>\n",
       "      <td>2.55</td>\n",
       "      <td>6799</td>\n",
       "      <td>9.095863e+05</td>\n",
       "      <td>더불어민주당</td>\n",
       "    </tr>\n",
       "  </tbody>\n",
       "</table>\n",
       "<p>424 rows × 26 columns</p>\n",
       "</div>"
      ],
      "text/plain": [
       "       읍면동코드                                           geometry  읍면동명   선거인수  \\\n",
       "0    1101053  POLYGON ((126.97689 37.57565, 126.97703 37.569...   사직동   8199   \n",
       "1    1101054  POLYGON ((126.98269 37.59507, 126.98337 37.594...   삼청동   2442   \n",
       "2    1101055  POLYGON ((126.97585 37.59656, 126.97359 37.593...   부암동   8449   \n",
       "3    1101056  POLYGON ((126.98014 37.62835, 126.98013 37.628...   평창동  15372   \n",
       "4    1101057  POLYGON ((126.96067 37.58080, 126.96281 37.579...   무악동   6431   \n",
       "..       ...                                                ...   ...    ...   \n",
       "419  1125074  POLYGON ((127.14857 37.54578, 127.14871 37.545...    길동  41751   \n",
       "420  1124054  POLYGON ((127.14897 37.49628, 127.15032 37.495...  거여2동  17544   \n",
       "421  1124055  POLYGON ((127.16010 37.49716, 127.16005 37.494...  마천1동  18270   \n",
       "422  1124081  POLYGON ((127.13667 37.48915, 127.13535 37.481...   장지동  27317   \n",
       "423  1124082  POLYGON ((127.14149 37.49168, 127.14183 37.491...   위례동   8596   \n",
       "\n",
       "       투표수  새누리당 더불어민주당  국민의당   선거구   독거노인수  ...  기초수급자인원수    보육시설  금융기관  \\\n",
       "0     5280  2486   2383   263   종로구   383.0  ...       102   818.0  21.0   \n",
       "1     1518   680    707    85   종로구   156.0  ...        50    32.0   5.0   \n",
       "2     5396  2175   2806   252   종로구   319.0  ...       140   145.0   2.0   \n",
       "3     9780  4619   4571   387   종로구   615.0  ...       124   195.0   5.0   \n",
       "4     4418  1840   2241   248   종로구   205.0  ...       129   250.0   1.0   \n",
       "..     ...   ...    ...   ...   ...     ...  ...       ...     ...   ...   \n",
       "419  23096  9346   9524  3447  강동구갑  1162.0  ...       895  1282.0   9.0   \n",
       "420  10595  4158   4721  1561  송파구병   637.0  ...       541   650.0   3.0   \n",
       "421  10130  4042   4367  1617  송파구병   816.0  ...      1021   523.0   1.0   \n",
       "422  16604  6081   7704  2625  송파구병   663.0  ...       916  1053.0   3.0   \n",
       "423   5640  1778   3155   662  송파구병   112.0  ...        33   621.0   3.0   \n",
       "\n",
       "     사업체 평균연령  장애등급별 장애인현황     인구    면적   인구밀도            소득      당선  \n",
       "0      10.417        315.0  10013  1.23   8141  1.669880e+06  더불어민주당  \n",
       "1       8.000        126.0   3118  1.49   2093  5.186958e+05  더불어민주당  \n",
       "2      10.250        334.0  11044  2.27   4865  1.811906e+06  더불어민주당  \n",
       "3      10.250        573.0  19457  8.87   2194  3.241634e+06  더불어민주당  \n",
       "4      11.999        300.0   8516  0.36  23656  1.505475e+06  더불어민주당  \n",
       "..        ...          ...    ...   ...    ...           ...     ...  \n",
       "419     8.250       1981.0  51434  2.17  23702  8.057254e+05  더불어민주당  \n",
       "420     9.667       1000.0  19609  0.53  36998  5.480795e+05  더불어민주당  \n",
       "421     9.250       1258.0  22912  0.58  39503  6.698035e+05  더불어민주당  \n",
       "422     8.250       1477.0  35834  1.37  26156  1.096770e+06  더불어민주당  \n",
       "423     3.334        454.0  17338  2.55   6799  9.095863e+05  더불어민주당  \n",
       "\n",
       "[424 rows x 26 columns]"
      ]
     },
     "execution_count": 194,
     "metadata": {},
     "output_type": "execute_result"
    }
   ],
   "source": [
    "data"
   ]
  }
 ],
 "metadata": {
  "kernelspec": {
   "display_name": "Python 3",
   "language": "python",
   "name": "python3"
  },
  "language_info": {
   "codemirror_mode": {
    "name": "ipython",
    "version": 3
   },
   "file_extension": ".py",
   "mimetype": "text/x-python",
   "name": "python",
   "nbconvert_exporter": "python",
   "pygments_lexer": "ipython3",
   "version": "3.7.4"
  }
 },
 "nbformat": 4,
 "nbformat_minor": 2
}
